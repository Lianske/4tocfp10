{
  "nbformat": 4,
  "nbformat_minor": 0,
  "metadata": {
    "colab": {
      "provenance": [],
      "include_colab_link": true
    },
    "kernelspec": {
      "name": "python3",
      "display_name": "Python 3"
    },
    "language_info": {
      "name": "python"
    }
  },
  "cells": [
    {
      "cell_type": "markdown",
      "metadata": {
        "id": "view-in-github",
        "colab_type": "text"
      },
      "source": [
        "<a href=\"https://colab.research.google.com/github/Lianske/4tocfp10/blob/main/TP_Final_Python_2023.ipynb\" target=\"_parent\"><img src=\"https://colab.research.google.com/assets/colab-badge.svg\" alt=\"Open In Colab\"/></a>"
      ]
    },
    {
      "cell_type": "markdown",
      "source": [
        "## Ejecucion Condicional"
      ],
      "metadata": {
        "id": "QUCuY5yQcT47"
      }
    },
    {
      "cell_type": "markdown",
      "source": [
        "Ejercicio 1: Escribe un programa para pedirle al usuario el número de\n",
        "horas y la tarifa por hora para calcular el salario bruto.\n",
        "\n",
        "Introduzca Horas: 35\n",
        "\n",
        "Introduzca Tarifa: 2.75\n",
        "\n",
        "Salario: 96.25\n"
      ],
      "metadata": {
        "id": "Xt6d3HkBs49u"
      }
    },
    {
      "cell_type": "code",
      "source": [
        "horas = float(input(\"horas hechas:\"))\n",
        "tarifa = float(input(\"tarifa:\"))\n",
        "salario = horas * tarifa\n",
        "print(\"salario:\", salario)"
      ],
      "metadata": {
        "id": "-bJH1t-_cdLu",
        "outputId": "3d9f6eb3-b662-47b8-bb97-d425c27e26d1",
        "colab": {
          "base_uri": "https://localhost:8080/"
        }
      },
      "execution_count": null,
      "outputs": [
        {
          "output_type": "stream",
          "name": "stdout",
          "text": [
            "horas hechas:35\n",
            "tarifa:2.75\n",
            "salario: 96.25\n"
          ]
        }
      ]
    },
    {
      "cell_type": "markdown",
      "source": [
        "\n",
        "Ejercicio 2: Reescribe el programa del cálculo del salario para darle al empleado 1.5 veces la tarifa horaria para todas las horas trabajadas que excedan de 40.\n",
        "\n",
        "Introduzca las Horas: 45\n",
        "\n",
        "Introduzca la Tarifa por hora: 10\n",
        "\n",
        "Salario: 475.0"
      ],
      "metadata": {
        "id": "4KNwMN2dRPvS"
      }
    },
    {
      "cell_type": "code",
      "source": [
        "horas = (input(\"horas hechas:\"))\n",
        "tarifa = (input(\"tarifa:\"))\n",
        "try:\n",
        "  tarifa = float(tarifa)\n",
        "  horas = float(horas)\n",
        "  if horas > 40:\n",
        "   horasextra = horas - 40\n",
        "   salario = tarifa * 1.5 * horasextra + 40 * tarifa\n",
        "  else:\n",
        "   salario = tarifa * horas\n",
        "  print(\"salario:\", salario)\n",
        "except:\n",
        "    print(\"nosepuede\")\n",
        "  #intento 1 no m deja usar por algo del try NO SE    UPDATE: me faltaba un \":\" pero ahora tengo un error en linea 8\n",
        "  #intento 2 error en muchas lineas pero era porque me falto ponerles espacio, except fallaba porque estaba dentro de try (creo, lo solucione borrando un espacio que tenia)"
      ],
      "metadata": {
        "id": "4nrGOuBkclt3",
        "outputId": "722a2108-19cf-4e5c-bd4f-1a598d893bb4",
        "colab": {
          "base_uri": "https://localhost:8080/"
        }
      },
      "execution_count": null,
      "outputs": [
        {
          "output_type": "stream",
          "name": "stdout",
          "text": [
            "horas hechas:45\n",
            "tarifa:10\n",
            "salario: 475.0\n"
          ]
        }
      ]
    },
    {
      "cell_type": "code",
      "source": [
        "# ahora con \"INT\" en \"HORAS\" pq es para nros enteros. \"FLOAT\" es para nros decimales\n",
        "horas = (input(\"horas hechas:\"))\n",
        "tarifa = (input(\"tarifa:\"))\n",
        "try:\n",
        "  tarifa = float(tarifa)\n",
        "  horas = int(horas)\n",
        "  if horas > 40:\n",
        "   horasextra = horas - 40\n",
        "   salario = tarifa * 1.5 * horasextra + 40 * tarifa\n",
        "  else:\n",
        "   salario = tarifa * horas\n",
        "  print(\"salario:\", salario)\n",
        "except:\n",
        "    print(\"nosepuede\")\n",
        "# me extrañaba que al poner una letra no saliera el texto \"NOSEPUEDE\" al final era porque en la linea 1 y 2 ponia \"FLOAT/INT\" fuera del try y mandaba error directamente. lo arreglé en ambos ejercicios"
      ],
      "metadata": {
        "id": "zXOEmVlvxOr0",
        "outputId": "e3559e0f-c9bc-4c09-89fb-693ad816a31c",
        "colab": {
          "base_uri": "https://localhost:8080/"
        }
      },
      "execution_count": null,
      "outputs": [
        {
          "output_type": "stream",
          "name": "stdout",
          "text": [
            "horas hechas:45\n",
            "tarifa:1\n",
            "salario: 47.5\n"
          ]
        }
      ]
    },
    {
      "cell_type": "markdown",
      "source": [
        "Ejercicio 3: Escribe un programa que solicite una puntuación entre 0.0 y 1.0. Si la puntuación está fuera de ese rango, muestra un mensaje de error. Si la puntuación está entre 0.0 y 1.0, muestra la calificación usando la tabla siguiente:\n",
        "\n",
        "Puntuación Calificación\n",
        "\n",
        "\\>= 0.9 Sobresaliente\n",
        "\n",
        "\\>= 0.8 Notable\n",
        "\n",
        "\\>= 0.7 Bien\n",
        "\n",
        "\\>= 0.6 Suficiente\n",
        "\n",
        "\\< 0.6 Insuficiente\n",
        "\n",
        "Introduzca puntuación: 0.95\n",
        "Sobresaliente\n",
        "\n",
        "Introduzca puntuación: perfecto\n",
        "Puntuación incorrecta\n",
        "\n",
        "Introduzca puntuación: 10.0\n",
        "Puntuación incorrecta\n",
        "\n",
        "Introduzca puntuación: 0.75\n",
        "Bien\n",
        "\n",
        "Introduzca puntuación: 0.5\n",
        "Insuficiente\n",
        "\n",
        "Ejecuta el programa repetidamente, como se muestra arriba, para probar con varios valores de entrada diferentes."
      ],
      "metadata": {
        "id": "X-WiTuO6HszE"
      }
    },
    {
      "cell_type": "code",
      "source": [
        "try:\n",
        "  calificacion = float(input(\"calificacion: \"))\n",
        "  if (0.0 <= calificacion) and (calificacion <= 1.0):\n",
        "    if calificacion >= 0.9:\n",
        "      print(\"SOBRESALIENTEE :D\")\n",
        "    elif calificacion >= 0.8:\n",
        "      print(\"NOTABLE\")\n",
        "    elif calificacion >= 0.7:\n",
        "      print(\"BIEN\")\n",
        "    elif calificacion >= 0.6:\n",
        "      print(\"SUFICIENTE\")\n",
        "    else:\n",
        "      print(\"INSUFICIENTE :(\")\n",
        "  else:\n",
        "    print(\"calificacion incorrecta\")\n",
        "except:\n",
        "  print(\"calificacion incorrecta\")\n",
        "\n",
        "  #intento 1 no me funcionaba por el try, lo habia puesto tarde\n",
        "  #intento 2 me faltaron muchos \":\"\n",
        "  #intento 3 me di cuenta de que al poner 10.0 no aparecia \"calificacion incorrecta\"   UPDATE: no habia puesto un mensaje de \"calificacion incorrecta\" cuando habia un valor fuera del rango 0.0 a 1.0\n",
        "  # intento 4 me mandaba error por \"calificacion incorrecta\" porque tenia 1 espacio de mas"
      ],
      "metadata": {
        "id": "JazKvOWjz7Ug",
        "outputId": "6e459e7c-b1d7-4d08-f7ea-bb3b8fb2d4b6",
        "colab": {
          "base_uri": "https://localhost:8080/"
        }
      },
      "execution_count": null,
      "outputs": [
        {
          "output_type": "stream",
          "name": "stdout",
          "text": [
            "calificacion: 0.1\n",
            "INSUFICIENTE :(\n"
          ]
        }
      ]
    },
    {
      "cell_type": "code",
      "source": [
        "#como estaba antes de la correccion del intento 3\n",
        "try:\n",
        "  calificacion = float(input(\"calificacion: \"))\n",
        "  if (0.0 <= calificacion) and (calificacion <= 1.0):\n",
        "    if calificacion >= 0.9:\n",
        "      print(\"SOBRESALIENTEE :D\")\n",
        "    elif calificacion >= 0.8:\n",
        "      print(\"NOTABLE\")\n",
        "    elif calificacion >= 0.7:\n",
        "      print(\"BIEN\")\n",
        "    elif calificacion >= 0.6:\n",
        "      print(\"SUFICIENTE\")\n",
        "    else:\n",
        "      print(\"INSUFICIENTE :(\")\n",
        "except:\n",
        "  print(\"calificacion incorrecta\")"
      ],
      "metadata": {
        "id": "IA8BK9Zw6PaW",
        "outputId": "efc09cad-a0f5-402e-82f9-97a524b8b9b4",
        "colab": {
          "base_uri": "https://localhost:8080/"
        }
      },
      "execution_count": null,
      "outputs": [
        {
          "name": "stdout",
          "output_type": "stream",
          "text": [
            "calificacion: 10.0\n"
          ]
        }
      ]
    },
    {
      "cell_type": "markdown",
      "source": [
        "## Funciones"
      ],
      "metadata": {
        "id": "Gt9P9XfUc8Ad"
      }
    },
    {
      "cell_type": "markdown",
      "source": [
        "Ejercicio 4: ¿Cuál es la utilidad de la palabra clave “def” en Python?\n",
        "\n",
        "a) Es una jerga que significa “este código es realmente estupendo”\n",
        "\n",
        "b) Indica el comienzo de una función\n",
        "\n",
        "c) Indica que la siguiente sección de código indentado debe ser almacenada para usarla más tarde\n",
        "\n",
        "d) b y c son correctas ambas\n",
        "\n",
        "e) Ninguna de las anteriores"
      ],
      "metadata": {
        "id": "PYNmgve4c-4T"
      }
    },
    {
      "cell_type": "markdown",
      "source": [
        "D"
      ],
      "metadata": {
        "id": "1c3xMn20HCF3"
      }
    },
    {
      "cell_type": "markdown",
      "source": [
        "Ejercicio 5: ¿Qué mostrará en pantalla el siguiente programa Python?\n",
        "\n",
        "\n",
        "```\n",
        "def fred():\n",
        "  print(\"Zap\")\n",
        "def jane():\n",
        "  print(\"ABC\")\n",
        "```\n",
        "\n",
        "```\n",
        "jane()\n",
        "fred()\n",
        "jane()\n",
        "```\n",
        "\n",
        "a) Zap ABC jane fred jane\n",
        "\n",
        "b) Zap ABC Zap\n",
        "\n",
        "c) ABC Zap jane\n",
        "\n",
        "d) ABC Zap ABC\n",
        "\n",
        "e) Zap Zap Zap"
      ],
      "metadata": {
        "id": "gNjoweuXdP1L"
      }
    },
    {
      "cell_type": "markdown",
      "source": [
        "D ABC ZAP ABC"
      ],
      "metadata": {
        "id": "hQHvlDN4H5q7"
      }
    },
    {
      "cell_type": "markdown",
      "source": [
        "Ejercicio 6: Reescribe el programa de cálculo del salario, con tarifa-ymedia para las horas extras, y crea una función llamada calculo_salario que reciba dos parámetros (horas y tarifa).\n",
        "\n",
        "Introduzca Horas: 45\n",
        "\n",
        "Introduzca Tarifa: 10\n",
        "\n",
        "Salario: 475.0"
      ],
      "metadata": {
        "id": "U0GwtoPYdigr"
      }
    },
    {
      "cell_type": "code",
      "source": [
        "horas = (input(\"horas hechas:\"))\n",
        "tarifa = (input(\"tarifa:\"))\n",
        "try:\n",
        "  tarifa = float(tarifa)\n",
        "  horas = float(horas)\n",
        "  if horas > 40:\n",
        "   horasextra = horas - 40\n",
        "   salario = tarifa * 1.5 * horasextra + 40 * tarifa\n",
        "  else:\n",
        "   salario = tarifa * horas\n",
        "  print(\"salario:\", salario)\n",
        "except:\n",
        "    print(\"nosepuede\")\n",
        "def calculo_salario(horas, tarifa):\n",
        "# intento 1 no me salió, seguramente me faltó algo en el def porque lo demás es lo mismo del otro ejercicio\n",
        "  if horas > 40:\n",
        "   horasextra = horas - 40\n",
        "   salario = tarifa * 1.5 * horasextra + 40 * tarifa\n",
        "  else:\n",
        "   salario = tarifa * horas\n",
        "  print(\"salario:\", salario)\n",
        "#UPDATE: me faltaba el codigo para la funcion, tuve que copiar y pegar lo que habia en try"
      ],
      "metadata": {
        "id": "d46Yc7Y6deXO",
        "colab": {
          "base_uri": "https://localhost:8080/"
        },
        "outputId": "37b5f5ae-2d25-4094-c039-78e81290f117"
      },
      "execution_count": null,
      "outputs": [
        {
          "output_type": "stream",
          "name": "stdout",
          "text": [
            "horas hechas:666\n",
            "tarifa:4\n",
            "salario: 3916.0\n"
          ]
        }
      ]
    },
    {
      "cell_type": "code",
      "source": [
        "# x una correccion me di cuenta que no estoy usando bien la funcion \"calculo_salario\". funciona y no lo quiero tocar asi q aca esta con las correcciones\n",
        "#NOTA: no funcionó me manda \"nosepuede\" no importa lo que ponga  UPDATE: ERA PORQUE NO PUSE FLOAT\n",
        "horas = (input(\"horas hechas:\"))\n",
        "tarifa = (input(\"tarifa:\"))\n",
        "try:\n",
        "  horas = (horas) #ME FALTO FLOAT\n",
        "  tarifa = (tarifa) #ACA TAMBIEN\n",
        "  salario = calculo_salario(horas, tarifa)\n",
        "  print(\"salario:\", salario)\n",
        "except:\n",
        "    print(\"nosepuede\")\n",
        "def calculo_salario(horas, tarifa):\n",
        "  if horas > 40:\n",
        "   horasextra = horas - 40\n",
        "   salario = tarifa * 1.5 * horasextra + 40 * tarifa\n",
        "  else:\n",
        "   salario = tarifa * horas\n",
        "  print(\"salario:\", salario)"
      ],
      "metadata": {
        "id": "sKrRWf_xndL0",
        "outputId": "a39b1033-c1c7-4709-955f-3f08d80b44dd",
        "colab": {
          "base_uri": "https://localhost:8080/"
        }
      },
      "execution_count": null,
      "outputs": [
        {
          "output_type": "stream",
          "name": "stdout",
          "text": [
            "horas hechas:aa\n",
            "tarifa:as\n",
            "nosepuede\n"
          ]
        }
      ]
    },
    {
      "cell_type": "code",
      "source": [
        "#tuve que pasar la funcion def al principio porque sino salia todo al reves\n",
        "def calculo_salario(horas, tarifa):\n",
        "  if horas > 40:\n",
        "   horasextra = horas - 40\n",
        "   salario = tarifa * 1.5 * horasextra + 40 * tarifa\n",
        "  else:\n",
        "   salario = tarifa * horas\n",
        "  return salario #con print solamente imprimia pero no devolvia nada por eso salia \"none\"\n",
        "horas = (input(\"horas hechas:\"))\n",
        "tarifa = (input(\"tarifa:\"))\n",
        "try:\n",
        "  horas = float(horas)\n",
        "  tarifa = float(tarifa)\n",
        "  salario = calculo_salario(horas, tarifa)\n",
        "  print(\"salario:\", salario)\n",
        "except:\n",
        "    print(\"nosepuede\")\n",
        "# no se por que al principio me salia un salario: none aparte del salario real   UPDATE: era pq la funcion no devolvia el valor del salarip asi q tuve que cambiarlo por return"
      ],
      "metadata": {
        "colab": {
          "base_uri": "https://localhost:8080/"
        },
        "id": "RkauXxZ-pkH_",
        "outputId": "0fd5f840-266e-4a96-8185-f0b721c3fbf8"
      },
      "execution_count": null,
      "outputs": [
        {
          "output_type": "stream",
          "name": "stdout",
          "text": [
            "horas hechas:11\n",
            "tarifa:2\n",
            "salario: 22.0\n"
          ]
        }
      ]
    },
    {
      "cell_type": "markdown",
      "source": [
        "Ejercicio 7: Reescribe el programa de calificaciones del capítulo anterior usando una función llamada calcula_calificacion, que reciba una puntuación como parámetro y devuelva una calificación como cadena.\n",
        "\n",
        "Puntuación Calificación\n",
        "\n",
        "> 0.9 Sobresaliente\n",
        "\n",
        "> 0.8 Notable\n",
        "\n",
        "> 0.7 Bien\n",
        "\n",
        "> 0.6 Suficiente\n",
        "\n",
        "<= 0.6 Insuficiente\n",
        "\n",
        "Introduzca puntuación: 0.95\n",
        "\n",
        "Sobresaliente\n",
        "Introduzca puntuación: perfecto\n",
        "\n",
        "Puntuación incorrecta\n",
        "Introduzca puntuación: 10.0\n",
        "\n",
        "Puntuación incorrecta\n",
        "Introduzca puntuación: 0.75\n",
        "\n",
        "Bien\n",
        "Introduzca puntuación: 0.5\n",
        "\n",
        "Insuficiente\n",
        "Ejecuta el programa repetidamente para probar con varios valores de entrada diferentes."
      ],
      "metadata": {
        "id": "siYJ_2WVdp8O"
      }
    },
    {
      "cell_type": "code",
      "source": [
        "def calcula_calificacion(calificacion):\n",
        " if (0.0 <= calificacion) and (calificacion <= 1.0):\n",
        "    if calificacion >= 0.9:\n",
        "      return \"SOBRESALIENTE :D\"\n",
        "    elif calificacion >= 0.8:\n",
        "      return \"NOTABLE\"\n",
        "    elif calificacion >= 0.7:\n",
        "      return \"BIEN\"\n",
        "    elif calificacion >= 0.6:\n",
        "      return \"SUFICIENTE\"\n",
        "    else:\n",
        "      return \"INSUFICIENTE :(\"\n",
        " else:\n",
        "    return \"CALIFICACION INCORRECTA\"\n",
        "try:\n",
        "  calificacion = float(input(\"calificacion: \"))\n",
        "  resultado = calcula_calificacion (calificacion)\n",
        "  print(resultado)\n",
        "except:\n",
        "  print(\"calificacion incorrecta\")\n",
        "#intento 1. me sale none en cualquier resultado  UPDATE: tuve que cambiar print por return. tuve muchos problemas por el orden del try y def\n",
        "#intento 2. me di cuenta que si ponia una letra me saltaba todo error  UPDATE: tuve que mover \"calificacion = float(input(\"calificacion: \"))\" adentro de try porque sino me mandaba error directamente"
      ],
      "metadata": {
        "id": "FkOG-XLuzmXS",
        "outputId": "8907a6d7-df03-4817-8965-ce74c08441dc",
        "colab": {
          "base_uri": "https://localhost:8080/"
        }
      },
      "execution_count": null,
      "outputs": [
        {
          "output_type": "stream",
          "name": "stdout",
          "text": [
            "calificacion: aa\n",
            "calificacion incorrecta\n"
          ]
        }
      ]
    },
    {
      "cell_type": "markdown",
      "source": [
        "##Iteracion"
      ],
      "metadata": {
        "id": "CERVTF4ddruJ"
      }
    },
    {
      "cell_type": "markdown",
      "source": [
        "Ejercicio 8: Escribe un programa que lea repetidamente números hasta que el usuario introduzca “fin”. Una vez se haya introducido “fin”, muestra por pantalla el total, la cantidad de números y la media de esos números. Si el usuario introduce cualquier otra cosa que no sea un número, detecta su fallo usando try y except, muestra un mensaje de error y pasa al número siguiente.\n",
        "\n",
        "Introduzca un número: 4\n",
        "\n",
        "Introduzca un número: 5\n",
        "\n",
        "Introduzca un número: dato erróneo\n",
        "\n",
        "Entrada inválida\n",
        "\n",
        "Introduzca un número: 7\n",
        "\n",
        "Introduzca un número: fin\n",
        "\n",
        "16 3 5.33333333333"
      ],
      "metadata": {
        "id": "UiuAud1cd6Vy"
      }
    },
    {
      "cell_type": "code",
      "source": [
        "Contador = 0\n",
        "Total = 0\n",
        "Media = 0\n",
        "while True:\n",
        "   numero = (input(\"Introduzca un numero: \"))\n",
        "   if numero == \"fin\":\n",
        "    break\n",
        "   try:\n",
        "    numero = int(numero)\n",
        "    Total = Total + numero\n",
        "    Contador = Contador + 1\n",
        "    Media = Total / Contador\n",
        "   except:\n",
        "    print(\"eso no es un numero\")\n",
        "print(Total, Contador, Media)"
      ],
      "metadata": {
        "colab": {
          "base_uri": "https://localhost:8080/"
        },
        "outputId": "a9720d48-4030-4a1b-a162-d0e600802068",
        "id": "w4ZCwtcUeOdt"
      },
      "execution_count": null,
      "outputs": [
        {
          "output_type": "stream",
          "name": "stdout",
          "text": [
            "Introduzca un numero: 1\n",
            "Introduzca un numero: 2\n",
            "Introduzca un numero: 3\n",
            "Introduzca un numero: asd\n",
            "eso no es un numero\n",
            "Introduzca un numero: bueno\n",
            "eso no es un numero\n",
            "Introduzca un numero: 1\n",
            "Introduzca un numero: 2\n",
            "Introduzca un numero: 3\n",
            "Introduzca un numero: fin\n",
            "12 6 2.0\n"
          ]
        }
      ]
    },
    {
      "cell_type": "markdown",
      "source": [
        "Ejercicio 9: Escribe otro programa que pida una lista de números como la anterior y al final muestre por pantalla el máximo y mínimo de los números, en vez de la media."
      ],
      "metadata": {
        "id": "cd3TNnOeeCJJ"
      }
    },
    {
      "cell_type": "code",
      "source": [
        "maximo = 0\n",
        "minimo = 0\n",
        "\n",
        "while True:\n",
        " numero = (input(\"Introduzca un numero: \"))\n",
        " if numero == \"fin\":\n",
        "    break\n",
        " try:\n",
        "    numero = int(numero)\n",
        "    if maximo == 0 or numero > maximo:\n",
        "     maximo = numero\n",
        "    if minimo == 0 or numero < minimo:\n",
        "     minimo = numero\n",
        " except:\n",
        "    print(\"eso no es un numero\")\n",
        "    continue\n",
        "print(\"el maximo es: \", maximo, \"y el minimo es:\", minimo )\n"
      ],
      "metadata": {
        "colab": {
          "base_uri": "https://localhost:8080/"
        },
        "outputId": "287e4336-8516-480a-9fb0-645b1f804803",
        "id": "CErYIFy0edDY"
      },
      "execution_count": null,
      "outputs": [
        {
          "output_type": "stream",
          "name": "stdout",
          "text": [
            "Introduzca un numero: 1\n",
            "Introduzca un numero: 2\n",
            "Introduzca un numero: 3\n",
            "Introduzca un numero: 0\n",
            "Introduzca un numero: 4\n",
            "Introduzca un numero: 5\n",
            "Introduzca un numero: fin\n",
            "el maximo es:  5 y el minimo es: 4\n"
          ]
        }
      ]
    },
    {
      "cell_type": "markdown",
      "source": [
        "##Cadenas"
      ],
      "metadata": {
        "id": "pot-Z7a1eNwe"
      }
    },
    {
      "cell_type": "markdown",
      "source": [
        "Ejercicio 10: Toma el siguiente código en Python que almacena una cadena:\n",
        "\n",
        "str = 'X-DSPAM-Confidence:0.8475'\n",
        "\n",
        "Utiliza find y una parte de la cadena para extraer la porción de la cadena después del carácter dos puntos y después utiliza la función float para convertir la cadena extraída en un número de punto flotante."
      ],
      "metadata": {
        "id": "-TGFFgzieQSe"
      }
    },
    {
      "cell_type": "code",
      "source": [
        "str = 'X-DSPAM-Confidence:0.8475'\n",
        "posicion = str.find( \":\")\n",
        "numero = str[posicion+1:]\n",
        "numero = float(numero)\n",
        "print(numero)"
      ],
      "metadata": {
        "colab": {
          "base_uri": "https://localhost:8080/"
        },
        "outputId": "42b4413b-b7a2-4e4c-9ed5-8073bf43ef3c",
        "id": "VU0WGZZqereg"
      },
      "execution_count": null,
      "outputs": [
        {
          "output_type": "stream",
          "name": "stdout",
          "text": [
            "0.8475\n"
          ]
        }
      ]
    },
    {
      "cell_type": "markdown",
      "source": [
        "Ejercicio 11: Los teléfonos de una empresa tienen el siguiente formato prefijo-número-extension donde el prefijo es el código del país +549, y la extensión tiene dos dígitos (por ejemplo +549 1172471056 34). Escribir un programa que pregunte por un número de teléfono con este formato y muestre por pantalla el número de teléfono sin el prefijo y la extensión.."
      ],
      "metadata": {
        "id": "cTcxo2STeWyN"
      }
    },
    {
      "cell_type": "code",
      "source": [
        "telefono = input (\"Escriba un numero con el formato +549 1172471056 34:  \")\n",
        "numero = telefono.split()\n",
        "parte_central = numero[1]\n",
        "print(parte_central)"
      ],
      "metadata": {
        "colab": {
          "base_uri": "https://localhost:8080/"
        },
        "outputId": "d482d7fd-a6c5-46ce-a56a-ce4324ec1487",
        "id": "H0zMmhYgeu-R"
      },
      "execution_count": null,
      "outputs": [
        {
          "output_type": "stream",
          "name": "stdout",
          "text": [
            "Escriba un numero con el formato +549 1172471056 34:  +246 59222050 69\n",
            "59222050\n"
          ]
        }
      ]
    },
    {
      "cell_type": "markdown",
      "source": [
        "Ejercicio 12: Escribir un programa que pregunte el nombre del usuario en la consola y un número entero e imprima por pantalla en líneas distintas el nombre del usuario tantas veces como el número introducido."
      ],
      "metadata": {
        "id": "kLwoctAbeby5"
      }
    },
    {
      "cell_type": "code",
      "source": [
        "nombre = input(\"escribi tu nombre: \")\n",
        "numero = input(\"cuantas veces queres que lo escriba: \")\n",
        "try:\n",
        "  numero = int(numero)\n",
        "  for i in range(numero):\n",
        "    print(nombre)\n",
        "except:\n",
        "  print(\" un numero te pedi\")\n"
      ],
      "metadata": {
        "colab": {
          "base_uri": "https://localhost:8080/"
        },
        "outputId": "e9e787f9-eaa4-4a4e-b8dc-76356d0cd458",
        "id": "IIeGGhSFe5bx"
      },
      "execution_count": null,
      "outputs": [
        {
          "output_type": "stream",
          "name": "stdout",
          "text": [
            "escribi tu nombre: romina\n",
            "cuantas veces queres que lo escriba: 2\n",
            "romina\n",
            "romina\n"
          ]
        }
      ]
    },
    {
      "cell_type": "markdown",
      "source": [
        "Ejercicio 13: Escribir un programa que pregunte el nombre completo del usuario en la consola y después muestre por pantalla el nombre completo del usuario tres veces, una con todas las letras minúsculas, otra con todas las letras mayúsculas y otra solo con la primera letra del nombre y de los apellidos en mayúscula. El usuario puede introducir su nombre combinando mayúsculas y minúsculas como quiera."
      ],
      "metadata": {
        "id": "RIx5eDjSeflA"
      }
    },
    {
      "cell_type": "code",
      "source": [
        "nombre = input(\" escribi tu nombre completo :\")\n",
        "print(nombre.lower())\n",
        "print(nombre.upper())\n",
        "print(nombre.title())"
      ],
      "metadata": {
        "colab": {
          "base_uri": "https://localhost:8080/"
        },
        "outputId": "a0b910d1-3227-4e8f-bbd2-dced54d73bbc",
        "id": "m3J9qX7Se9vY"
      },
      "execution_count": 1,
      "outputs": [
        {
          "output_type": "stream",
          "name": "stdout",
          "text": [
            " escribi tu nombre completo :rOMina BelEN BelAsQuez YugAR\n",
            "romina belen belasquez yugar\n",
            "ROMINA BELEN BELASQUEZ YUGAR\n",
            "Romina Belen Belasquez Yugar\n"
          ]
        }
      ]
    },
    {
      "cell_type": "markdown",
      "source": [
        "Ejercicio 14:Escribir un programa que pregunte el nombre del usuario en la consola y después de que el usuario lo introduzca muestre por pantalla < NOMBRE > tiene < n > letras, donde < NOMBRE > es el nombre de usuario en mayúsculas y < n > es el número de letras que tienen el nombre."
      ],
      "metadata": {
        "id": "pkJZ-tQtei91"
      }
    },
    {
      "cell_type": "code",
      "source": [
        "nombre = input(\"escribi tu nombre: \")\n",
        "letras = len(nombre)\n",
        "print ( nombre.upper(), \"tiene\", letras, \"letras\")"
      ],
      "metadata": {
        "colab": {
          "base_uri": "https://localhost:8080/"
        },
        "outputId": "ff08574d-0c7e-4c2c-e5ab-afd84d2e599b",
        "id": "kUDQP2PTfRiw"
      },
      "execution_count": null,
      "outputs": [
        {
          "output_type": "stream",
          "name": "stdout",
          "text": [
            "escribi tu nomrbe: ROMINA BELEN BELASQUEZ YUGAR\n",
            "ROMINA BELEN BELASQUEZ YUGAR tiene 28 letras\n"
          ]
        }
      ]
    },
    {
      "cell_type": "markdown",
      "source": [
        "##Archivos"
      ],
      "metadata": {
        "id": "g_n_UT_MewJ6"
      }
    },
    {
      "cell_type": "markdown",
      "source": [
        "Ejercicio 15: Escribe un programa que lea un archivo e imprima su contenido (línea por línea), todo en mayúsculas. Al ejecutar el programa, debería parecerse a esto:\n",
        "\n",
        "Ingresa un nombre de archivo: mbox-short.txt\n",
        "\n",
        "FROM STEPHEN.MARQUARD@UCT.AC.ZA SAT JAN 5 09:14:16 2008 RETURN-PATH: POSTMASTER@COLLAB.SAKAIPROJECT.ORG RECEIVED: FROM MURDER (MAIL.UMICH.EDU [141.211.14.90]) BY FRANKENSTEIN.MAIL.UMICH.EDU (CYRUS V2.3.8) WITH LMTPA; SAT, 05 JAN 2008 09:14:16 -0500"
      ],
      "metadata": {
        "id": "qzm5dH4Xezp1"
      }
    },
    {
      "cell_type": "code",
      "source": [],
      "metadata": {
        "id": "Fd5h2SGKex3M"
      },
      "execution_count": null,
      "outputs": []
    },
    {
      "cell_type": "markdown",
      "source": [
        "Ejercicio 16: Escribe un programa que solicite un nombre de archivo y después lea ese archivo buscando las líneas que tengan la siguiente forma:\n",
        "\n",
        "X-DSPAM-Confidence: 0.8475\n",
        "\n",
        "Cuando encuentres una línea que comience con “X-DSPAM-Confidence:” ponla aparte para extraer el número decimal de la línea. Cuenta esas líneas y después calcula el total acumulado de los valores de “spam-confidence”. Cuando llegues al final del archivo, imprime el valor medio de “spam confidence”.\n",
        "\n",
        "Ingresa un nombre de archivo: mbox.txt\n",
        "\n",
        "Promedio spam confidence: 0.894128046745\n",
        "\n",
        "Ingresa un nombre de archivo: mbox-short.txt\n",
        "\n",
        "Promedio spam confidence: 0.750718518519"
      ],
      "metadata": {
        "id": "IlSyUF0ee8gC"
      }
    },
    {
      "cell_type": "code",
      "source": [],
      "metadata": {
        "id": "1TEH5R9We-C0"
      },
      "execution_count": null,
      "outputs": []
    },
    {
      "cell_type": "markdown",
      "source": [
        "Ejercicio 17:Algunas veces cuando los programadores se aburren o quieren divertirse un poco, agregan un inofensivo Huevo de Pascua a su programa. Modifica el programa que pregunta al usuario por el nombre de archivo para que imprima un mensaje divertido cuando el usuario escriba “na na boo boo” como nombre de archivo. El programa debería funcionar normalmente para cualquier archivo que exista o no exista. Aquí está un ejemplo de la ejecución del programa:\n",
        "\n",
        "Ingresa un nombre de archivo: mbox.txt\n",
        "\n",
        "Hay 1797 líneas subject en mbox.txt\n",
        "\n",
        "Ingresa un nombre de archivo: inexistente.tyxt\n",
        "\n",
        "El archivo no puede ser abierto: inexistente.tyxt\n",
        "\n",
        "Ingresa un nombre de archivo: na na boo boo\n",
        "\n",
        "NA NA BOO BOO PARA TI - Te he atrapado!"
      ],
      "metadata": {
        "id": "w_PpOUghfCPb"
      }
    },
    {
      "cell_type": "code",
      "source": [],
      "metadata": {
        "id": "4o_KVubGfDt0"
      },
      "execution_count": null,
      "outputs": []
    },
    {
      "cell_type": "markdown",
      "source": [
        "## listas"
      ],
      "metadata": {
        "id": "9QRnjpX4fKjP"
      }
    },
    {
      "cell_type": "markdown",
      "source": [
        "Ejercicio 18: Encontrar que línea del programa de arriba no está protegida (método guardián) propiamente. Trata de construir un archivo de texto que cause que el programa falle y después modifica el programa de modo que la línea es propiamente protegida y pruébalo para asegurarte que el programa es capaz de manejar tu nuevo archivo de texto."
      ],
      "metadata": {
        "id": "jqmnB_c2fRkU"
      }
    },
    {
      "cell_type": "code",
      "source": [],
      "metadata": {
        "id": "crRuZy0MfMz1"
      },
      "execution_count": null,
      "outputs": []
    },
    {
      "cell_type": "markdown",
      "source": [
        "Ejercicio 19: Reescribe el código guardián en el ejemplo de arriba sin las dos sentencias if. En vez de eso, utiliza una expresión lógica compuesta utilizando el operador lógico or con una sola sentencia if."
      ],
      "metadata": {
        "id": "uYTaJlpdfVJo"
      }
    },
    {
      "cell_type": "code",
      "source": [],
      "metadata": {
        "id": "R12mgGRVfWf1"
      },
      "execution_count": null,
      "outputs": []
    },
    {
      "cell_type": "markdown",
      "source": [
        "Ejercicio 20: Descargar una copia de un archivo www.py4e.com/code3/romeo.txt. Escribir un programa para abrir el archivo romeo.txt y leerlo línea por línea. Para cada línea, dividir la línea en una lista de palabras utilizando la función split. Para cada palabra, revisar si la palabra ya se encuentra previamente en la lista. Si la palabra no está en la lista, agregarla a la lista. Cuando el programa termine, ordenar e imprimir las palabras resultantes en orden alfabético.\n",
        "\n",
        "Ingresar nombre de archivo: romeo.txt ['Arise', 'But', 'It', 'Juliet', 'Who', 'already', 'and', 'breaks', 'east', 'envious', 'fair', 'grief', 'is', 'kill', 'light', 'moon', 'pale', 'sick', 'soft', 'sun', 'the', 'through', 'what', 'window', 'with', 'yonder']"
      ],
      "metadata": {
        "id": "MnJqoPP7fb9D"
      }
    },
    {
      "cell_type": "code",
      "source": [],
      "metadata": {
        "id": "DAmYadObfdEm"
      },
      "execution_count": null,
      "outputs": []
    },
    {
      "cell_type": "markdown",
      "source": [
        "Ejercicio 21: Escribir un programa para leer a través de datos de una bandeja de entrada de correo y cuando encuentres una línea que comience con “From”, dividir la línea en palabras utilizando la función split. Estamos interesados en quién envió el mensaje, lo cual es la segunda palabra en las líneas que comienzan con From.\n",
        "\n",
        "From stephen.marquard@uct.ac.za Sat Jan 5 09:14:16 2008\n",
        "\n",
        "Tendrás que analizar la línea From e imprimir la segunda palabra de cada línea From, después tendrás que contar el número de líneas From (no incluir From:) e imprimir el total al final. Este es un buen ejemplo de salida con algunas líneas de salida removidas:\n",
        "\n",
        "Ingresa un nombre de archivo: mbox-short.txt\n",
        "\n",
        "stephen.marquard@uct.ac.za\n",
        "\n",
        "louis@media.berkeley.edu\n",
        "\n",
        "zqian@umich.edu\n",
        "\n",
        "[...líneas de salida removidas...]\n",
        "\n",
        "ray@media.berkeley.edu\n",
        "\n",
        "cwen@iupui.edu\n",
        "\n",
        "cwen@iupui.edu\n",
        "\n",
        "cwen@iupui.edu\n",
        "\n",
        "Hay 27 lineas en el archivo con la palabra From al inicio\n",
        "\n",
        "Ejercicio 6: Reescribe el programa que pide al usuario una lista de números e imprime el máximo y el mínimo de los números al final cuando el usuario ingresa “hecho”. Escribe el programa para almacenar los números que el usuario ingrese en una lista, y utiliza las funciones max() y min() para calcular el máximo y el mínimo después de que el bucle termine.\n",
        "\n",
        "Ingresa un número: 6\n",
        "\n",
        "Ingresa un número: 2\n",
        "\n",
        "Ingresa un número: 9\n",
        "\n",
        "Ingresa un número: 3\n",
        "\n",
        "Ingresa un número: 5\n",
        "\n",
        "Ingresa un número: hecho\n",
        "\n",
        "Máximo: 9.0\n",
        "\n",
        "Minimo: 2.0"
      ],
      "metadata": {
        "id": "nTUmBhDFfhC1"
      }
    },
    {
      "cell_type": "code",
      "source": [],
      "metadata": {
        "id": "2A4Ex-0Tfja9"
      },
      "execution_count": null,
      "outputs": []
    }
  ]
}